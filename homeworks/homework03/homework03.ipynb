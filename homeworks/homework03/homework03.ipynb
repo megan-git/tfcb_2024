{
 "cells": [
  {
   "cell_type": "markdown",
   "metadata": {},
   "source": [
    "# Homework03 (10 points): The genetic code as a python `dict`\n",
    "\n",
    "Any code that's already here in the notebook or in the lectures is fair game. I've provided outline code for some of the problems; you are welcome to use that but you don't have to. There are also some hints/examples at the very end of this notebook.\n",
    "\n",
    "Please post questions to the tfcb_2022 slack channel. Phil is also available via email (pbradley@fredhutch.org), and he loves answering Python questions.\n",
    "Seriously. Don't hesitate to reach out if you are feeling stuck. Direct messaging\n",
    "him in slack also works great."
   ]
  },
  {
   "cell_type": "markdown",
   "metadata": {},
   "source": [
    "Here's a python dictionary that stores the genetic code mapping. The keys are codons and the values are the amino acids that those codons code for. '*' represents STOP."
   ]
  },
  {
   "cell_type": "code",
   "execution_count": 1,
   "metadata": {},
   "outputs": [],
   "source": [
    "genetic_code = {\n",
    "    'AAA': 'K', 'AAC': 'N', 'AAG': 'K', 'AAT': 'N', \n",
    "    'ACA': 'T', 'ACC': 'T', 'ACG': 'T', 'ACT': 'T', \n",
    "    'AGA': 'R', 'AGC': 'S', 'AGG': 'R', 'AGT': 'S', \n",
    "    'ATA': 'I', 'ATC': 'I', 'ATG': 'M', 'ATT': 'I', \n",
    "    'CAA': 'Q', 'CAC': 'H', 'CAG': 'Q', 'CAT': 'H', \n",
    "    'CCA': 'P', 'CCC': 'P', 'CCG': 'P', 'CCT': 'P', \n",
    "    'CGA': 'R', 'CGC': 'R', 'CGG': 'R', 'CGT': 'R', \n",
    "    'CTA': 'L', 'CTC': 'L', 'CTG': 'L', 'CTT': 'L', \n",
    "    'GAA': 'E', 'GAC': 'D', 'GAG': 'E', 'GAT': 'D', \n",
    "    'GCA': 'A', 'GCC': 'A', 'GCG': 'A', 'GCT': 'A', \n",
    "    'GGA': 'G', 'GGC': 'G', 'GGG': 'G', 'GGT': 'G', \n",
    "    'GTA': 'V', 'GTC': 'V', 'GTG': 'V', 'GTT': 'V', \n",
    "    'TAA': '*', 'TAC': 'Y', 'TAG': '*', 'TAT': 'Y', \n",
    "    'TCA': 'S', 'TCC': 'S', 'TCG': 'S', 'TCT': 'S', \n",
    "    'TGA': '*', 'TGC': 'C', 'TGG': 'W', 'TGT': 'C', \n",
    "    'TTA': 'L', 'TTC': 'F', 'TTG': 'L', 'TTT': 'F'\n",
    "}\n"
   ]
  },
  {
   "cell_type": "markdown",
   "metadata": {},
   "source": [
    "# Q1 (1 point). What does `TGC` code for?\n",
    "\n",
    "Create a string called codon that is equal to `'TGC'` and use the genetic_code dictionary to look up its translation.\n",
    "\n",
    "Recall that you look up a value in a dictionary using the syntax\n",
    "`dictionary[key]`, where `dictionary` is the name of the dictionary and `key` is the name of the key."
   ]
  },
  {
   "cell_type": "code",
   "execution_count": 9,
   "metadata": {},
   "outputs": [
    {
     "name": "stdout",
     "output_type": "stream",
     "text": [
      "TGC\n",
      "C\n"
     ]
    }
   ],
   "source": [
    "# what does TGC code for?\n",
    "codon = 'TGC'\n",
    "print(codon)\n",
    "amino_acid = genetic_code[codon]\n",
    "print(amino_acid)"
   ]
  },
  {
   "cell_type": "markdown",
   "metadata": {},
   "source": [
    "# Q2 (1 point). How many codons code for leucine ('L')?\n",
    "Do this by looping through the keys (ie, codons) in the `genetic_code` dictionary and counting how many code for leucine."
   ]
  },
  {
   "cell_type": "code",
   "execution_count": 12,
   "metadata": {},
   "outputs": [
    {
     "name": "stdout",
     "output_type": "stream",
     "text": [
      "6\n"
     ]
    }
   ],
   "source": [
    "num_leucine_codons = 0 #initialize the count to 0\n",
    "\n",
    "# for-loops over dictionaries give us the keys (ie, codons)\n",
    "for codon, amino_acid in genetic_code.items():\n",
    "    if amino_acid == 'L':\n",
    "        num_leucine_codons += 1\n",
    "        # add 1 to the num_leucine_codons variable\n",
    "print(num_leucine_codons)"
   ]
  },
  {
   "cell_type": "markdown",
   "metadata": {},
   "source": [
    "# Q3 (2 points). How many codons code for each amino acid?\n",
    "\n",
    "Do this with a `for` loop over the amino acids (plus stop aka `'*'`), inside of which you figure out how many codons code for that amino acid and print out the amino acid and the number of codons. You should get an output like this:\n",
    "\n",
    "```\n",
    "* 3\n",
    "A 4\n",
    "C 2\n",
    "D 2\n",
    "```\n",
    "etc."
   ]
  },
  {
   "cell_type": "markdown",
   "metadata": {},
   "source": [
    "We need a list of all the amino acids (plus the stop codon). You could hard code those, with something like:\n",
    "```python\n",
    "amino_acids_plus_stop = ['*','A','C','D'] # etc\n",
    "```\n",
    "But it's easier to build the list directly from the dictionary. For starters, here's how you get all the values in a dictionary:"
   ]
  },
  {
   "cell_type": "code",
   "execution_count": 13,
   "metadata": {},
   "outputs": [
    {
     "data": {
      "text/plain": [
       "dict_values(['K', 'N', 'K', 'N', 'T', 'T', 'T', 'T', 'R', 'S', 'R', 'S', 'I', 'I', 'M', 'I', 'Q', 'H', 'Q', 'H', 'P', 'P', 'P', 'P', 'R', 'R', 'R', 'R', 'L', 'L', 'L', 'L', 'E', 'D', 'E', 'D', 'A', 'A', 'A', 'A', 'G', 'G', 'G', 'G', 'V', 'V', 'V', 'V', '*', 'Y', '*', 'Y', 'S', 'S', 'S', 'S', '*', 'C', 'W', 'C', 'L', 'F', 'L', 'F'])"
      ]
     },
     "execution_count": 13,
     "metadata": {},
     "output_type": "execute_result"
    }
   ],
   "source": [
    "genetic_code.values()"
   ]
  },
  {
   "cell_type": "markdown",
   "metadata": {},
   "source": [
    "That list-like thing contains all the amino acids, but there are duplicates, and they aren't in sorted order. An easy way to eliminate duplicates in python is to turn the list into a `set`, which is another built-in type that stores unique items. (`set`s are optimized for fast membership checking and operations like intersection and unions, but that's not relevant for this HW.)"
   ]
  },
  {
   "cell_type": "code",
   "execution_count": 14,
   "metadata": {},
   "outputs": [
    {
     "name": "stdout",
     "output_type": "stream",
     "text": [
      "['*', 'A', 'C', 'D', 'E', 'F', 'G', 'H', 'I', 'K', 'L', 'M', 'N', 'P', 'Q', 'R', 'S', 'T', 'V', 'W', 'Y']\n"
     ]
    }
   ],
   "source": [
    "# set is another builtin python type, like list or dict. It's a nice way of removing duplicates.\n",
    "# Here we build a set from all the values (amino acids) in the genetic code dictionary.\n",
    "# Then we use the \"sorted\" built-in python function to turn the set into a sorted\n",
    "# list.\n",
    "amino_acids_plus_stop = sorted(set(genetic_code.values()))\n",
    "print(amino_acids_plus_stop)"
   ]
  },
  {
   "cell_type": "markdown",
   "metadata": {},
   "source": [
    "Now the idea is to loop over this list of amino acids and count, for each one, how many codons code for it. For that you could use your solution to Question 2.  "
   ]
  },
  {
   "cell_type": "code",
   "execution_count": 17,
   "metadata": {},
   "outputs": [
    {
     "name": "stdout",
     "output_type": "stream",
     "text": [
      "* 3\n",
      "A 4\n",
      "C 2\n",
      "D 2\n",
      "E 2\n",
      "F 2\n",
      "G 4\n",
      "H 2\n",
      "I 3\n",
      "K 2\n",
      "L 6\n",
      "M 1\n",
      "N 2\n",
      "P 4\n",
      "Q 2\n",
      "R 6\n",
      "S 6\n",
      "T 4\n",
      "V 4\n",
      "W 1\n",
      "Y 2\n"
     ]
    }
   ],
   "source": [
    "for aa in amino_acids_plus_stop:\n",
    "    count = 0\n",
    "    for codon in genetic_code:\n",
    "        if genetic_code[codon] == aa:\n",
    "            count += 1\n",
    "    # Now finally write out the answer\n",
    "    print(aa, count)"
   ]
  },
  {
   "cell_type": "markdown",
   "metadata": {},
   "source": [
    "# Q4 (3 points). Write a translation function that takes in a DNA sequence and returns a protein sequence.\n",
    "### ACK-- we had so many wonderful questions during class that I did not get to the material on defining functions! I'm sorry about that. Luckily, defining new functions in Python is very straightforward. Check out the examples in lecture06 (\"Defining new functions\") and at the end of this notebook, and the answer template in the next code block. If you don't want to try it, you can instead just write the code to translate `dna_seq` as a stand-alone code block (see the second code block below)\n",
    "\n",
    "Extra nucleotides at the end should be ignored.\n",
    "\n",
    "Use it to translate the sequence `CCTCATATTTTGTGAATTTCTTGAGCTTGAGGTCGTGAGGCTACTTGAACTGAGGCTTGTCATGAGCGTT`\n",
    "\n",
    "If you are so inclined, see how short you can make your function. Can you do it in one line? See the examples at the end of this notebook if you are unsure of the syntax for defining functions and for hints on translating."
   ]
  },
  {
   "cell_type": "code",
   "execution_count": 19,
   "metadata": {},
   "outputs": [
    {
     "name": "stdout",
     "output_type": "stream",
     "text": [
      "PHIL*IS*A*GREAT*TEACHER\n"
     ]
    }
   ],
   "source": [
    "# translation function\n",
    "def translate(dna_seq):\n",
    "    # here's how we count the number of complete codons.\n",
    "    num_codons = len(dna_seq)//3\n",
    "    \n",
    "    # start with an empty string\n",
    "    translation = ''\n",
    "    \n",
    "    # now build up the translation one amino acid at a time...\n",
    "    for i in range(num_codons):\n",
    "        codon = dna_seq[i*3:(i*3)+3]  \n",
    "        translation += genetic_code.get(codon, '') \n",
    "    \n",
    "    return translation\n",
    "\n",
    "translated_result = translate('CCTCATATTTTGTGAATTTCTTGAGCTTGAGGTCGTGAGGCTACTTGAACTGAGGCTTGTCATGAGCGTT')\n",
    "print(translated_result)\n"
   ]
  },
  {
   "cell_type": "markdown",
   "metadata": {},
   "source": [
    "# OR, without using a function:"
   ]
  },
  {
   "cell_type": "code",
   "execution_count": 20,
   "metadata": {},
   "outputs": [
    {
     "name": "stdout",
     "output_type": "stream",
     "text": [
      "the translation is: PHIL*IS*A*GREAT*TEACHER\n"
     ]
    }
   ],
   "source": [
    "# write code to translate dna_seq into an amino acid string\n",
    "dna_seq = 'CCTCATATTTTGTGAATTTCTTGAGCTTGAGGTCGTGAGGCTACTTGAACTGAGGCTTGTCATGAGCGTT'\n",
    "\n",
    "# here's how we count the number of complete codons\n",
    "num_codons = len(dna_seq)//3\n",
    "\n",
    "# start with an empty string\n",
    "translation = ''\n",
    "\n",
    "# now build up the translation one amino acid at a time...\n",
    "for i in range(num_codons):\n",
    "    codon = dna_seq[i*3:(i*3)+3]  \n",
    "    translation += genetic_code.get(codon, '')  \n",
    "\n",
    "print('the translation is:', translation)\n"
   ]
  },
  {
   "cell_type": "markdown",
   "metadata": {},
   "source": [
    "# Q5 (3 points). Translate a SARS COV2 genome sequence; what is the longest open reading frame?\n",
    "\n",
    "Here by open reading frame I just mean a stretch of codons that doesn't contain any stop codons.\n",
    "\n",
    "You can answer either in terms of the length of the reading frame at the nucleotide or protein level, just be clear."
   ]
  },
  {
   "cell_type": "markdown",
   "metadata": {},
   "source": [
    "This little snippet will read the SARS COV2 genome DNA sequence into the string called `genome`:"
   ]
  },
  {
   "cell_type": "code",
   "execution_count": 25,
   "metadata": {},
   "outputs": [
    {
     "ename": "FileNotFoundError",
     "evalue": "[Errno 2] No such file or directory: 'data/sars_cov2_genome_sequence.txt'",
     "output_type": "error",
     "traceback": [
      "\u001b[0;31m---------------------------------------------------------------------------\u001b[0m",
      "\u001b[0;31mFileNotFoundError\u001b[0m                         Traceback (most recent call last)",
      "Cell \u001b[0;32mIn[25], line 2\u001b[0m\n\u001b[1;32m      1\u001b[0m filename \u001b[38;5;241m=\u001b[39m \u001b[38;5;124m'\u001b[39m\u001b[38;5;124mdata/sars_cov2_genome_sequence.txt\u001b[39m\u001b[38;5;124m'\u001b[39m\n\u001b[0;32m----> 2\u001b[0m lines \u001b[38;5;241m=\u001b[39m \u001b[38;5;28;43mopen\u001b[39;49m\u001b[43m(\u001b[49m\u001b[43mfilename\u001b[49m\u001b[43m,\u001b[49m\u001b[43m \u001b[49m\u001b[38;5;124;43m'\u001b[39;49m\u001b[38;5;124;43mr\u001b[39;49m\u001b[38;5;124;43m'\u001b[39;49m\u001b[43m)\u001b[49m\u001b[38;5;241m.\u001b[39mreadlines()\n\u001b[1;32m      3\u001b[0m genome \u001b[38;5;241m=\u001b[39m \u001b[38;5;124m'\u001b[39m\u001b[38;5;124m'\u001b[39m\u001b[38;5;241m.\u001b[39mjoin(lines[\u001b[38;5;241m1\u001b[39m:])\u001b[38;5;241m.\u001b[39mreplace(\u001b[38;5;124m'\u001b[39m\u001b[38;5;130;01m\\n\u001b[39;00m\u001b[38;5;124m'\u001b[39m, \u001b[38;5;124m'\u001b[39m\u001b[38;5;124m'\u001b[39m)\n\u001b[1;32m      4\u001b[0m \u001b[38;5;28mprint\u001b[39m(\u001b[38;5;124m\"\u001b[39m\u001b[38;5;124mGenome length:\u001b[39m\u001b[38;5;124m\"\u001b[39m, \u001b[38;5;28mlen\u001b[39m(genome))\n",
      "File \u001b[0;32m~/Library/Python/3.9/lib/python/site-packages/IPython/core/interactiveshell.py:310\u001b[0m, in \u001b[0;36m_modified_open\u001b[0;34m(file, *args, **kwargs)\u001b[0m\n\u001b[1;32m    303\u001b[0m \u001b[38;5;28;01mif\u001b[39;00m file \u001b[38;5;129;01min\u001b[39;00m {\u001b[38;5;241m0\u001b[39m, \u001b[38;5;241m1\u001b[39m, \u001b[38;5;241m2\u001b[39m}:\n\u001b[1;32m    304\u001b[0m     \u001b[38;5;28;01mraise\u001b[39;00m \u001b[38;5;167;01mValueError\u001b[39;00m(\n\u001b[1;32m    305\u001b[0m         \u001b[38;5;124mf\u001b[39m\u001b[38;5;124m\"\u001b[39m\u001b[38;5;124mIPython won\u001b[39m\u001b[38;5;124m'\u001b[39m\u001b[38;5;124mt let you open fd=\u001b[39m\u001b[38;5;132;01m{\u001b[39;00mfile\u001b[38;5;132;01m}\u001b[39;00m\u001b[38;5;124m by default \u001b[39m\u001b[38;5;124m\"\u001b[39m\n\u001b[1;32m    306\u001b[0m         \u001b[38;5;124m\"\u001b[39m\u001b[38;5;124mas it is likely to crash IPython. If you know what you are doing, \u001b[39m\u001b[38;5;124m\"\u001b[39m\n\u001b[1;32m    307\u001b[0m         \u001b[38;5;124m\"\u001b[39m\u001b[38;5;124myou can use builtins\u001b[39m\u001b[38;5;124m'\u001b[39m\u001b[38;5;124m open.\u001b[39m\u001b[38;5;124m\"\u001b[39m\n\u001b[1;32m    308\u001b[0m     )\n\u001b[0;32m--> 310\u001b[0m \u001b[38;5;28;01mreturn\u001b[39;00m \u001b[43mio_open\u001b[49m\u001b[43m(\u001b[49m\u001b[43mfile\u001b[49m\u001b[43m,\u001b[49m\u001b[43m \u001b[49m\u001b[38;5;241;43m*\u001b[39;49m\u001b[43margs\u001b[49m\u001b[43m,\u001b[49m\u001b[43m \u001b[49m\u001b[38;5;241;43m*\u001b[39;49m\u001b[38;5;241;43m*\u001b[39;49m\u001b[43mkwargs\u001b[49m\u001b[43m)\u001b[49m\n",
      "\u001b[0;31mFileNotFoundError\u001b[0m: [Errno 2] No such file or directory: 'data/sars_cov2_genome_sequence.txt'"
     ]
    }
   ],
   "source": [
    "filename = 'data/sars_cov2_genome_sequence.txt'\n",
    "lines = open(filename, 'r').readlines()\n",
    "genome = ''.join(lines[1:]).replace('\\n', '')\n",
    "print(\"Genome length:\", len(genome))\n",
    "def find_longest_orf(genome, genetic_code):\n",
    "    longest_orf = ''\n",
    "    current_orf = ''\n",
    "    for i in range(0, len(genome) - len(genome) % 3, 3):\n",
    "        codon = genome[i:i+3]\n",
    "        amino_acid = genetic_code.get(codon, '')\n",
    "\n",
    "        if amino_acid == '*':  \n",
    "            if len(current_orf) > len(longest_orf):\n",
    "                longest_orf = current_orf\n",
    "            current_orf = '' \n",
    "        else:\n",
    "            current_orf += amino_acid  \n",
    "    if len(current_orf) > len(longest_orf):\n",
    "        longest_orf = current_orf\n",
    "\n",
    "    return longest_orf\n",
    "longest_orf = find_longest_orf(genome, genetic_code)\n",
    "print(\"Length of the longest ORF at protein level:\", len(longest_orf))\n",
    "print(\"Protein sequence of the longest ORF:\", longest_orf)\n"
   ]
  },
  {
   "cell_type": "markdown",
   "metadata": {},
   "source": [
    "Now translate genome into a protein sequence using the `translate` function from the previous question, OR by cutting and pasting the translation block of code you wrote up above. (Functions are handy because we don't have to duplicate code)."
   ]
  },
  {
   "cell_type": "code",
   "execution_count": 29,
   "metadata": {},
   "outputs": [
    {
     "name": "stdout",
     "output_type": "stream",
     "text": [
      "PHIL*IS*A*GREAT*TEACHER\n"
     ]
    },
    {
     "ename": "NameError",
     "evalue": "name 'genome' is not defined",
     "output_type": "error",
     "traceback": [
      "\u001b[0;31m---------------------------------------------------------------------------\u001b[0m",
      "\u001b[0;31mNameError\u001b[0m                                 Traceback (most recent call last)",
      "Cell \u001b[0;32mIn[29], line 10\u001b[0m\n\u001b[1;32m      8\u001b[0m     \u001b[38;5;28;01mreturn\u001b[39;00m translation\n\u001b[1;32m      9\u001b[0m \u001b[38;5;28mprint\u001b[39m(translation)\n\u001b[0;32m---> 10\u001b[0m protein_sequence \u001b[38;5;241m=\u001b[39m translate(\u001b[43mgenome\u001b[49m)\n\u001b[1;32m     11\u001b[0m \u001b[38;5;28mprint\u001b[39m(\u001b[38;5;124m\"\u001b[39m\u001b[38;5;124mProtein sequence length:\u001b[39m\u001b[38;5;124m\"\u001b[39m, \u001b[38;5;28mlen\u001b[39m(protein_sequence))\n\u001b[1;32m     12\u001b[0m \u001b[38;5;28mprint\u001b[39m(\u001b[38;5;124m\"\u001b[39m\u001b[38;5;124mProtein sequence (first 100 characters):\u001b[39m\u001b[38;5;124m\"\u001b[39m, protein_sequence[:\u001b[38;5;241m100\u001b[39m])\n",
      "\u001b[0;31mNameError\u001b[0m: name 'genome' is not defined"
     ]
    }
   ],
   "source": [
    "def translate(dna_seq):\n",
    "    num_codons = len(dna_seq)//3\n",
    "    translation = ''  \n",
    "    for i in range(num_codons):\n",
    "        codon = dna_seq[i*3:(i*3)+3]  \n",
    "        translation += genetic_code.get(codon, '')  \n",
    "    return translation\n",
    "print(translation)\n",
    "protein_sequence = translate(genome)\n",
    "print(\"Protein sequence length:\", len(protein_sequence))\n",
    "print(\"Protein sequence (first 100 characters):\", protein_sequence[:100])"
   ]
  },
  {
   "cell_type": "markdown",
   "metadata": {},
   "source": [
    "Now you want to figure out the longest stretch of letters (amino acids) in `prot_seq` that doesn't contain any `*` characters. You can do this however you like, but as a hint, consider using the string.split() function, where you split on '*'s.  "
   ]
  },
  {
   "cell_type": "code",
   "execution_count": 30,
   "metadata": {},
   "outputs": [
    {
     "ename": "NameError",
     "evalue": "name 'protein_sequence' is not defined",
     "output_type": "error",
     "traceback": [
      "\u001b[0;31m---------------------------------------------------------------------------\u001b[0m",
      "\u001b[0;31mNameError\u001b[0m                                 Traceback (most recent call last)",
      "Cell \u001b[0;32mIn[30], line 1\u001b[0m\n\u001b[0;32m----> 1\u001b[0m prot_seq \u001b[38;5;241m=\u001b[39m \u001b[43mprotein_sequence\u001b[49m \n\u001b[1;32m      2\u001b[0m l \u001b[38;5;241m=\u001b[39m prot_seq\u001b[38;5;241m.\u001b[39msplit(\u001b[38;5;124m'\u001b[39m\u001b[38;5;124m*\u001b[39m\u001b[38;5;124m'\u001b[39m)\n\u001b[1;32m      3\u001b[0m longest_stretch \u001b[38;5;241m=\u001b[39m \u001b[38;5;28mmax\u001b[39m(l, key\u001b[38;5;241m=\u001b[39m\u001b[38;5;28mlen\u001b[39m)\n",
      "\u001b[0;31mNameError\u001b[0m: name 'protein_sequence' is not defined"
     ]
    }
   ],
   "source": [
    "prot_seq = protein_sequence \n",
    "l = prot_seq.split('*')\n",
    "longest_stretch = max(l, key=len)\n",
    "print(\"The longest stretch without stop codons has length:\", len(longest_stretch))\n",
    "print(\"The longest stretch without stop codons is:\", longest_stretch)"
   ]
  },
  {
   "cell_type": "markdown",
   "metadata": {},
   "source": [
    "# Extra credit (2 points, maybe): What is the expected length of the longest open reading frame?\n",
    "\n",
    "Given that we have ~30,000 nucleotides of a given sequence composition, how long would we expect the longest reading frame to be if they were ordered randomly?\n",
    "\n",
    "Do this by randomly shuffling the genome sequence some number of times (say 100) and finding the longest orf in all its translations. Add those lengths up and divide by the number of times you shuffled.\n"
   ]
  },
  {
   "cell_type": "code",
   "execution_count": null,
   "metadata": {},
   "outputs": [],
   "source": [
    "# random is a very useful python library aka module\n",
    "import random\n",
    "\n",
    "numlist = [1,2,3,4,5,6]\n",
    "\n",
    "# we can call functions from within modules by using this syntax: module.function\n",
    "random.shuffle(numlist)\n",
    "\n",
    "print('shuffled numlist:', numlist)\n",
    "\n",
    "# random.shuffle doesn't work on immutable objects like strings, but we can turn a string into a list...\n",
    "seq = 'ACGTACGTACGT'\n",
    "\n",
    "seqlist = list(seq)\n",
    "\n",
    "random.shuffle(seqlist)\n",
    "\n",
    "seq = ''.join(seqlist)\n",
    "\n",
    "print('shuffled seq:', seq)"
   ]
  },
  {
   "cell_type": "code",
   "execution_count": null,
   "metadata": {},
   "outputs": [],
   "source": [
    "num_shuffles = 100\n",
    "\n",
    "# also create a variable to hold the total length of all the longest orfs...\n",
    "total_length = 0\n",
    "\n",
    "for repeat in range(num_shuffles):\n",
    "    # do stuff inside here...\n",
    "    \n",
    "mean_longest_orf = total_length/num_shuffles\n"
   ]
  },
  {
   "cell_type": "markdown",
   "metadata": {},
   "source": [
    "# Potentially helpful examples"
   ]
  },
  {
   "cell_type": "markdown",
   "metadata": {},
   "source": [
    "## More details on defining functions\n",
    "Defining a function that takes in an argument (in this case, a number) and returns a new value that depends on the argument. "
   ]
  },
  {
   "cell_type": "code",
   "execution_count": null,
   "metadata": {},
   "outputs": [],
   "source": [
    "# here we define a function that doubles a number\n",
    "#\n",
    "# Here the function is called \"double\" and the argument that gets passed in is\n",
    "# called \"num\". We could pick a different name for \"num\", as long as we use\n",
    "# that other name inside the body of the function (the body of the function is\n",
    "# the indendted part that comes after the \"def ...:\" line)\n",
    "def double(num):\n",
    "    return 2*num\n",
    "\n",
    "print('2 doubled is', double(2))\n",
    "print('3 doubled is', double(3))\n",
    "\n",
    "a = 6\n",
    "print(a, 'doubled is', double(a))\n"
   ]
  },
  {
   "cell_type": "code",
   "execution_count": null,
   "metadata": {},
   "outputs": [],
   "source": [
    "# this gives exactly the same function: it doesn't matter what we call the\n",
    "# argument (num or i) as long as we are consistent.\n",
    "def double(i):\n",
    "    return 2*i"
   ]
  },
  {
   "cell_type": "markdown",
   "metadata": {},
   "source": [
    "## Hints for translating DNA to protein"
   ]
  },
  {
   "cell_type": "code",
   "execution_count": null,
   "metadata": {},
   "outputs": [],
   "source": [
    "# let's translate a short dna sequence by hand\n",
    "dna_seq = 'CCTCATATT'\n",
    "\n",
    "translation = '' # start with an empty string\n",
    "\n",
    "first_codon = dna_seq[0:3]\n",
    "first_amino_acid = genetic_code[first_codon]\n",
    "translation = translation + first_amino_acid # add the first aa to the end\n",
    "\n",
    "second_codon = dna_seq[3:6]\n",
    "second_amino_acid = genetic_code[second_codon]\n",
    "translation = translation + second_amino_acid # add the second aa to the end\n",
    "\n",
    "third_codon = dna_seq[6:9]\n",
    "third_amino_acid = genetic_code[third_codon]\n",
    "translation = translation + third_amino_acid # add the third aa to the end\n",
    "\n",
    "print(dna_seq, 'codes for', translation)"
   ]
  },
  {
   "cell_type": "code",
   "execution_count": null,
   "metadata": {},
   "outputs": [],
   "source": []
  },
  {
   "cell_type": "code",
   "execution_count": null,
   "metadata": {},
   "outputs": [],
   "source": []
  }
 ],
 "metadata": {
  "kernelspec": {
   "display_name": "Python 3",
   "language": "python",
   "name": "python3"
  },
  "language_info": {
   "codemirror_mode": {
    "name": "ipython",
    "version": 3
   },
   "file_extension": ".py",
   "mimetype": "text/x-python",
   "name": "python",
   "nbconvert_exporter": "python",
   "pygments_lexer": "ipython3",
   "version": "3.9.6"
  }
 },
 "nbformat": 4,
 "nbformat_minor": 2
}
